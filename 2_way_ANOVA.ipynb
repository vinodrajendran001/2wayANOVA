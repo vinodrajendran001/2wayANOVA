{
 "cells": [
  {
   "cell_type": "markdown",
   "metadata": {},
   "source": [
    "# 2 way ANOVA"
   ]
  },
  {
   "cell_type": "code",
   "execution_count": null,
   "metadata": {
    "collapsed": true
   },
   "outputs": [],
   "source": [
    "import pandas as pd\n",
    "from statsmodels.graphics.factorplots import interaction_plot\n",
    "import matplotlib.pyplot as plt\n",
    "from scipy import stats"
   ]
  },
  {
   "cell_type": "markdown",
   "metadata": {},
   "source": [
    "Read file into pandas dataframe:"
   ]
  },
  {
   "cell_type": "code",
   "execution_count": null,
   "metadata": {
    "collapsed": true
   },
   "outputs": [],
   "source": [
    "datafile=\"/home/vital/Desktop/2wayANOVA/Quanti_PeptMatrix.csv\"\n",
    "data = pd.read_csv(datafile)"
   ]
  },
  {
   "cell_type": "markdown",
   "metadata": {},
   "source": [
    "Calculate Degrees of Freedom:"
   ]
  },
  {
   "cell_type": "code",
   "execution_count": null,
   "metadata": {
    "collapsed": true
   },
   "outputs": [],
   "source": [
    "def dof(peptide_df):\n",
    "\tN = len(peptide_df.intensity)\n",
    "\tdof_cell_line = len(peptide_df.cell_line.unique()) - 1\n",
    "\tdof_drug = len(peptide_df.drug.unique()) - 1\n",
    "\tdof_b = dof_cell_line*dof_drug #between\n",
    "\tdof_w = N - (len(peptide_df.cell_line.unique())*len(peptide_df.drug.unique())) #within\n",
    "\treturn(dof_cell_line, dof_drug, dof_b, dof_w)\n"
   ]
  },
  {
   "cell_type": "markdown",
   "metadata": {},
   "source": [
    "Calculate Sum of Squares:"
   ]
  },
  {
   "cell_type": "code",
   "execution_count": null,
   "metadata": {
    "collapsed": true
   },
   "outputs": [],
   "source": [
    "def ssq(data, grand_mean):\n",
    "\t#SUM of SQUARES FOR EACH FACTOR (Independent variables: cell_line AND drug): \n",
    "\tssq_cell_line = sum( [(data[data.cell_line == l].intensity.mean() - grand_mean)**2 for l in data.cell_line] )\n",
    "\t#Note: Do I need to iterate in data.cell_line or just data.cell_line\n",
    "\tssq_drug = sum( [(data[data.drug == d].intensity.mean() - grand_mean)**2 for d in data.drug] )\n",
    "\t#TOTAL SUM OF SQUARES:\n",
    "\tssq_t = sum((data.intensity - grand_mean)**2)\n",
    "\t#SUM OF SQUARES WITHIN (Also called residual)\n",
    "\tcto = data[data.drug == 'CT0']\n",
    "\tfu = data[data.drug == '5-FU']\n",
    "\tdoxo = data[data.drug == 'DOXO']\n",
    "\tmtx = data[data.drug == 'MTX']\n",
    "\tct72 = data[data.drug == 'CT72']\n",
    "\tpctl = data[data.drug == 'PCTL']\n",
    "\tsen = data[data.drug == 'SEN']\n",
    "\ttdx = data[data.drug == 'TDX']\n",
    "\t#\n",
    "\tcto_cell_line_means = [cto[cto.cell_line == c].intensity.mean() for c in cto.cell_line]\n",
    "\tfu_cell_line_means = [fu[fu.cell_line == c].intensity.mean() for c in fu.cell_line]\n",
    "\tdoxo_cell_line_means = [doxo[doxo.cell_line == c].intensity.mean() for c in doxo.cell_line]\n",
    "\tmtx_cell_line_means = [mtx[mtx.cell_line == c].intensity.mean() for c in mtx.cell_line]\n",
    "\tct72_cell_line_means = [ct72[ct72.cell_line == c].intensity.mean() for c in ct72.cell_line]\n",
    "\tpctl_cell_line_means = [pctl[pctl.cell_line == c].intensity.mean() for c in pctl.cell_line]\n",
    "\tsen_cell_line_means = [sen[sen.cell_line == c].intensity.mean() for c in sen.cell_line]\n",
    "\ttdx_cell_line_means = [tdx[tdx.cell_line == c].intensity.mean() for c in tdx.cell_line]\n",
    "\t#\n",
    "\tssq_w = sum((cto.intensity - cto_cell_line_means)**2) + \\\n",
    "\t\t\t\t\tsum((fu.intensity - fu_cell_line_means)**2) + \\\n",
    "\t\t\t\t\tsum((doxo.intensity - doxo_cell_line_means)**2) + \\\n",
    "\t\t\t\t\tsum((mtx.intensity - mtx_cell_line_means)**2) + \\\n",
    "\t\t\t\t\tsum((ct72.intensity - ct72_cell_line_means)**2) + \\\n",
    "\t\t\t\t\tsum((pctl.intensity - pctl_cell_line_means)**2) + \\\n",
    "\t\t\t\t\tsum((sen.intensity - sen_cell_line_means)**2) + \\\n",
    "\t\t\t\t\tsum((tdx.intensity - tdx_cell_line_means)**2) \n",
    "\t#SUM OF SQUARES OF THE INTERACTION (BETWEEN)\n",
    "\tssq_b = ssq_t-ssq_cell_line-ssq_drug-ssq_w\n",
    "\treturn(ssq_cell_line, ssq_drug, ssq_t, ssq_w, ssq_b)\n"
   ]
  },
  {
   "cell_type": "markdown",
   "metadata": {},
   "source": [
    "Calculate Mean Squares:"
   ]
  },
  {
   "cell_type": "code",
   "execution_count": null,
   "metadata": {
    "collapsed": true
   },
   "outputs": [],
   "source": [
    "def msq(ssq_cell_line, ssq_drug, ssq_b, ssq_w, dof_cell_line, dof_drug, dof_b, dof_w):\n",
    "\tmsq_cell_line = ssq_cell_line / dof_cell_line\n",
    "\tmsq_drug = ssq_drug / dof_drug\n",
    "\tmsq_b = ssq_b / dof_b #BETWEEN\n",
    "\tmsq_w = ssq_w/dof_w #WITHIN\n",
    "\treturn(msq_cell_line, msq_drug, msq_b, msq_w)\n"
   ]
  },
  {
   "cell_type": "markdown",
   "metadata": {},
   "source": [
    "Calculate F-ratio: \n",
    "The F-statistic is simply the mean square for each effect and the interaction divided by the mean square for within (error/residual)."
   ]
  },
  {
   "cell_type": "code",
   "execution_count": null,
   "metadata": {
    "collapsed": true
   },
   "outputs": [],
   "source": [
    "def f_ratio(msq_cell_line, msq_drug, msq_b, msq_w):\n",
    "\tf_cell_line = msq_cell_line/msq_w\n",
    "\tf_drug = msq_drug/msq_w\n",
    "\tf_b = msq_b/msq_w\n",
    "\treturn(f_cell_line, f_drug, f_b)\n"
   ]
  },
  {
   "cell_type": "markdown",
   "metadata": {},
   "source": [
    "Create pandas sub-dataframe for each peptide (row in original dataframe)\n",
    "with columns intensity, cell_line, and drug "
   ]
  },
  {
   "cell_type": "code",
   "execution_count": null,
   "metadata": {
    "collapsed": false
   },
   "outputs": [],
   "source": [
    "for index, row in data.iterrows():\n",
    "\t#Get pandas df for each peptide with columns intensity, cell_line and drug:\n",
    "\tprint index\n",
    "\tpeptide_df = pd.DataFrame(columns=[\"intensity\", \"cell_line\", \"drug\"])\n",
    "\tpeptide_df.cell_line = [\"Melanoma\"] * 24 + [\"Lung\"] * 24 + [\"Colon\"] * 24\n",
    "\tpeptide_df.drug = ([\"CTO\"]*3 + [\"5-FU\"]*3 + [\"DOXO\"]*3 + [\"MTX\"]*3 + [\"CT72\"]*3 + [\"PCTL\"]*3 + [\"SEN\"]*3 + [\"TDX\"]*3)*3\n",
    "\tpeptide_df.intensity = row.values[1:-1]\n",
    "\t#get Degrees of Freedom\n",
    "\tdof_cell_line, dof_drug, dof_b, dof_w = dof(peptide_df)\n",
    "\t#get grand mean Using Pandas DataFrame method mean on the dependent variable only\n",
    "\tgrand_mean = peptide_df.intensity.mean() #which is simply the mean of all intensity values\n",
    "\t#Calculate sum of squares\n",
    "\tssq_cell_line, ssq_drug, ssq_t, ssq_w, ssq_b = ssq(peptide_df, grand_mean)\n",
    "\t#Calculate mean squares\n",
    "\tmsq_cell_line, msq_drug, msq_b, msq_w = msq(ssq_cell_line, ssq_drug, ssq_b, ssq_w, dof_cell_line, dof_drug, dof_b, dof_w)\n",
    "\t#Calculate F-ratio (F-satistic)\n",
    "\tf_cell_line, f_drug, f_b = f_ratio(msq_cell_line, msq_drug, msq_b, msq_w)\n",
    "\t#OBTAIN p-values\n",
    "\t#scipy.stats method f.sf checks if the obtained F-ratios are above the critical value. \n",
    "\t#Use F-value for each effect and interaction as well as the degrees of freedom for them, and the degree of freedom within.\n",
    "\t#Null Hypothesis 1:  H0: cell-lines having the same response\n",
    "\tp_cell_line = stats.f.sf(f_cell_line, dof_cell_line, dof_w)\n",
    "\t#Null Hypothesis 2:  H0: drugs having the same response\n",
    "\tp_drug = stats.f.sf(f_drug, dof_drug, dof_w)\n",
    "\t#Null Hypothesis 3:  H0: cell-lines do not interact with drugs in the response\n",
    "\tp_cell_line_x_drug = stats.f.sf(f_b, dof_b, dof_w)\n",
    "\t#ADD rows to the original pandas df with the three pvalues:\n",
    "\tdata.loc[index, 'p_cell_line'] = p_cell_line\n",
    "\tdata.loc[index, 'p_drug'] = p_drug\n",
    "\tdata.loc[index, 'p_cell_line_x_drug'] = p_cell_line_x_drug\n"
   ]
  },
  {
   "cell_type": "code",
   "execution_count": null,
   "metadata": {
    "collapsed": true
   },
   "outputs": [],
   "source": []
  }
 ],
 "metadata": {
  "celltoolbar": "Raw Cell Format",
  "kernelspec": {
   "display_name": "Python 2",
   "language": "python",
   "name": "python2"
  },
  "language_info": {
   "codemirror_mode": {
    "name": "ipython",
    "version": 2
   },
   "file_extension": ".py",
   "mimetype": "text/x-python",
   "name": "python",
   "nbconvert_exporter": "python",
   "pygments_lexer": "ipython2",
   "version": "2.7.11+"
  }
 },
 "nbformat": 4,
 "nbformat_minor": 0
}
